{
 "cells": [
  {
   "cell_type": "code",
   "execution_count": 28,
   "metadata": {},
   "outputs": [
    {
     "name": "stdout",
     "output_type": "stream",
     "text": [
      "[<tf.Tensor 'unstack_146:0' shape=(1,) dtype=float32>, <tf.Tensor 'unstack_146:1' shape=(1,) dtype=float32>, <tf.Tensor 'unstack_146:2' shape=(1,) dtype=float32>]\n"
     ]
    }
   ],
   "source": [
    "import tensorflow as tf\n",
    "\n",
    "data_x = [[0.,0.,1.],[1.,1.,1.],[1.,2.,1.],[2.,1.,1.],[2.,2.,1.],[2.,0.,1.],[0.,2.,1.],[3.,3.,1.],[0.,3.,1.],[3.,0.,1.],[4.,4.,1.],[0.,4.,1,],[4.,0.,1.]]\n",
    "data_y = [[1.],[6.],[9.],[8.],[11.],[5.],[7.],[16.],[10.],[7.],[21.],[13.],[9.]]\n",
    "batch_size = len(data_x)\n",
    "\n",
    "# Input and Output. No batch_size for simplicity.\n",
    "x = tf.placeholder(shape=[batch_size,3], dtype=tf.float32, name=\"x\")\n",
    "y = tf.placeholder(shape=[batch_size,1], dtype=tf.float32, name=\"y\")\n",
    "\n",
    "# Weight and bias.\n",
    "#W = tf.Variable(tf.ones(shape=[1]), dtype=tf.float32, name=\"W\")\n",
    "#b = tf.Variable(tf.zeros(shape=[1]), dtype=tf.float32, name=\"b\")\n",
    "wrt_variables = tf.Variable(tf.ones(shape=[3,1]), dtype=tf.float32, name=\"wrt\")\n",
    "z = tf.Variable(tf.ones(shape=[3,1]), dtype=tf.float32, name=\"z\")\n",
    "c = tf.constant\n",
    "# Making a prediction and comparing it to the true output\n",
    "wrt_variables_list = tf.unstack(wrt_variables);\n",
    "#pred = x * wrt_variables_list[0] + wrt_variables_list[1]\n",
    "pred = tf.matmul(x,wrt_variables_list)\n",
    "loss = 0.5 * (y - pred)**2/batch_size\n",
    "#loss = tf.reduce_mean(0.5 * (y - pred)**2)\n",
    "loss = tf.unstack(loss)\n",
    "\n",
    "[Hess23,grad]=Hess_Comp(loss,wrt_variables_list);\n",
    "Jacob = Jaco_comp(loss,wrt_variables_list)\n",
    "Hess=tf.matmul(tf.transpose(Jacob),tf.stack(Jacob)); \n",
    "\n",
    "\n",
    "cg_wrt_variables = z;\n",
    "\n",
    "for iteration in range(5):\n",
    "    #cg_loss = (grad - tf.matmul(Hess,cg_wrt_variables))**2;\n",
    "    cg_wrt_variables_list = tf.unstack(cg_wrt_variables)\n",
    "    cg_loss = (grad - tf.matmul(Hess,cg_wrt_variables_list))**2\n",
    "    [H,G] = Hess_Comp(cg_loss,cg_wrt_variables_list);\n",
    "    d=-G;\n",
    "    for index in range (0,len(cg_wrt_variables_list)-1):\n",
    "#    for index in range (0,1):\n",
    "        Alpha_N= tf.matmul(-tf.transpose(G),d);\n",
    "        Alpha_D= tf.matmul(tf.matmul(tf.transpose(d),H),d);\n",
    "        Alpha = tf.divide(Alpha_N,Alpha_D);\n",
    "        cg_update_directions = Alpha*d    \n",
    "\n",
    "        cg_wrt_variables = tf.assign_add(cg_wrt_variables,cg_update_directions)\n",
    "        \n",
    "        cg_wrt_variables_list = tf.unstack(cg_wrt_variables);\n",
    "        cg_loss = (grad - tf.matmul(Hess,cg_wrt_variables_list))**2\n",
    "        [H1,G]=Hess_Comp(cg_loss,cg_wrt_variables_list)\n",
    "        Beta_N= tf.matmul(tf.matmul(tf.transpose(G),H),d);\n",
    "        Beta_D= tf.matmul(tf.matmul(tf.transpose(d),H),d);\n",
    "        Beta = tf.divide(Beta_N,Beta_D);\n",
    "        Beta_update_directions = tf.unstack(Beta*d)\n",
    "        d=tf.subtract(Beta_update_directions,G)\n",
    "        [H,G]=Hess_Comp(cg_loss,cg_wrt_variables_list)\n",
    "update_directions = -cg_wrt_variables;\n",
    "update_directions=(tf.unstack(update_directions))\n",
    "print(update_directions)\n",
    "\n",
    "wrt_variables = tf.assign_add(wrt_variables,update_directions)\n",
    "\n"
   ]
  },
  {
   "cell_type": "code",
   "execution_count": 1,
   "metadata": {},
   "outputs": [],
   "source": [
    "def Jaco_comp(y,x_list):\n",
    "    Jaco=[];Jaco1=[];\n",
    "    Jaco.append([tf.gradients(y_, x_list) for y_ in y])\n",
    "    for i in range(0,len(Jaco[0])):\n",
    "        for j in range(0,len(Jaco[0][i])):\n",
    "            if Jaco[0][i][j] == None:\n",
    "                Jaco1.append(cons(0))   \n",
    "            else: \n",
    "                Jaco1.append(Jaco[0][i][j])\n",
    "    Jaco1 = tf.reshape(Jaco1,[len(y),len(x_list)])\n",
    "    return(Jaco1)"
   ]
  },
  {
   "cell_type": "code",
   "execution_count": 2,
   "metadata": {},
   "outputs": [],
   "source": [
    "def Hess_Comp(y,x_list):\n",
    "    grads=[];H=[];grads1=[];H1=[];\n",
    "    grads.append(tf.gradients(y, x_list))\n",
    "    for i in range(0,len(grads[0])):\n",
    "        if grads[0][i] == None:\n",
    "            grads1.append(cons(10))   \n",
    "        else: \n",
    "            grads1.append(grads[0][i])\n",
    "    H.append([tf.gradients(y_, x_list) for y_ in grads1])\n",
    "    for i in range(0,len(H[0])):\n",
    "        for j in range(0,len(H[0][i])):\n",
    "            if H[0][i][j] == None:\n",
    "                H1.append(cons(10))   \n",
    "            else: \n",
    "                H1.append(H[0][i][j])\n",
    "    H1 = tf.reshape(H1,[len(x_list),len(x_list)])\n",
    "    grads1 = tf.reshape(grads1,[len(x_list),1])\n",
    "\n",
    "    return(H1,grads1)"
   ]
  },
  {
   "cell_type": "code",
   "execution_count": 3,
   "metadata": {},
   "outputs": [],
   "source": [
    "def cons(x):\n",
    "    return tf.constant(x, dtype=tf.float32)"
   ]
  },
  {
   "cell_type": "code",
   "execution_count": 30,
   "metadata": {},
   "outputs": [
    {
     "name": "stdout",
     "output_type": "stream",
     "text": [
      "Hi\n",
      "Initial loss: [array([ 0.], dtype=float32), array([ 0.34615386], dtype=float32), array([ 0.96153843], dtype=float32), array([ 0.61538464], dtype=float32), array([ 1.38461542], dtype=float32), array([ 0.15384616], dtype=float32), array([ 0.61538464], dtype=float32), array([ 3.11538458], dtype=float32), array([ 1.38461542], dtype=float32), array([ 0.34615386], dtype=float32), array([ 5.53846169], dtype=float32), array([ 2.46153855], dtype=float32), array([ 0.61538464], dtype=float32)]\n",
      "Loss after iteration 1: [ 0.93717158]\n",
      "Loss after iteration 2: [ 0.52250922]\n",
      "Loss after iteration 3: [ 0.31296828]\n",
      "Loss after iteration 4: [ 0.39318922]\n",
      "Loss after iteration 5: [ 0.10323144]\n",
      "Wrt_var: [[ 2.28496599]\n",
      " [ 2.50266886]\n",
      " [-0.03239131]]\n"
     ]
    }
   ],
   "source": [
    "\n",
    "\n",
    "sess = tf.Session()\n",
    "print(\"Hi\")\n",
    "\n",
    "sess.run(tf.global_variables_initializer())\n",
    "\n",
    "initial_loss = sess.run(\n",
    "    loss,\n",
    "    feed_dict={\n",
    "        x: data_x,\n",
    "        y: data_y\n",
    "    }\n",
    ")\n",
    "print(\"Initial loss:\", initial_loss)    \n",
    "\n",
    "for iteration in range(20):\n",
    "    g1,g = sess.run(\n",
    "        [wrt_variables,Hess],\n",
    "        feed_dict={\n",
    "            x: data_x,\n",
    "            y: data_y\n",
    "        }\n",
    "    )\n",
    "    comp_loss = sess.run(\n",
    "        loss,\n",
    "        feed_dict={\n",
    "            x: data_x,\n",
    "            y: data_y\n",
    "        }\n",
    "    )\n",
    "    #print(h)\n",
    "    print(\"Loss after iteration {}: {}\".format(iteration+1, sum(comp_loss)/len(data_x)))\n",
    "    if(sum(comp_loss)/len(data_x)<0.15):\n",
    "        break\n",
    "        \n",
    "#prediction = data_x *g1[0] +g1[1];\n",
    "print(\"Wrt_var:\",g1)\n",
    "\n",
    "    \n",
    "#logs_path = \"C:/Users/suraj/Logs\"\n",
    "#writer = tf.summary.FileWriter(logs_path, graph=tf.get_default_graph())\n",
    "#print(\"Prediction:\", sess.run(pred, feed_dict={x: data_x}))\n",
    "#print(\"Expected:\", data_y)\n",
    "sess.close();"
   ]
  },
  {
   "cell_type": "code",
   "execution_count": 21,
   "metadata": {},
   "outputs": [
    {
     "data": {
      "text/plain": [
       "[[1.0], [6.0], [9.0], [8.0]]"
      ]
     },
     "execution_count": 21,
     "metadata": {},
     "output_type": "execute_result"
    }
   ],
   "source": [
    "data_y"
   ]
  },
  {
   "cell_type": "code",
   "execution_count": 24,
   "metadata": {},
   "outputs": [
    {
     "data": {
      "text/plain": [
       "[[0.0, 0.0, 1.0], [1.0, 1.0, 1.0], [1.0, 2.0, 1.0], [2.0, 1.0, 1.0]]"
      ]
     },
     "execution_count": 24,
     "metadata": {},
     "output_type": "execute_result"
    }
   ],
   "source": [
    "data_x"
   ]
  },
  {
   "cell_type": "code",
   "execution_count": null,
   "metadata": {},
   "outputs": [],
   "source": []
  }
 ],
 "metadata": {
  "kernelspec": {
   "display_name": "Python 3",
   "language": "python",
   "name": "python3"
  },
  "language_info": {
   "codemirror_mode": {
    "name": "ipython",
    "version": 3
   },
   "file_extension": ".py",
   "mimetype": "text/x-python",
   "name": "python",
   "nbconvert_exporter": "python",
   "pygments_lexer": "ipython3",
   "version": "3.5.4"
  }
 },
 "nbformat": 4,
 "nbformat_minor": 2
}
