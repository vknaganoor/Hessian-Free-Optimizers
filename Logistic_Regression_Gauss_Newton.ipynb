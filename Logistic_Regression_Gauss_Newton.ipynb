{
 "cells": [
  {
   "cell_type": "code",
   "execution_count": 8,
   "metadata": {},
   "outputs": [],
   "source": [
    "# Function Hess_Comp evaluates the hessian that is necessary to estimate the step-size at each of the updates.\n",
    "def Hess_Comp(y,x_list):\n",
    "    grads=[];H=[];grads1=[];H1=[];\n",
    "    grads.append(tf.gradients(y, x_list))\n",
    "    for i in range(0,len(grads[0])):\n",
    "        if grads[0][i] == None:\n",
    "            grads1.append(cons(0))   \n",
    "        else: \n",
    "            grads1.append(grads[0][i])\n",
    "    H.append([tf.gradients(y_, x_list) for y_ in grads1])\n",
    "    for i in range(0,len(H[0])):\n",
    "        for j in range(0,len(H[0][i])):\n",
    "            if H[0][i][j] == None:\n",
    "                H1.append(cons(0))   \n",
    "            else: \n",
    "                H1.append(H[0][i][j])\n",
    "    grads1 = tf.reshape(grads1,[len(x_list),1])        \n",
    "    H1 = tf.reshape(H1,[len(x_list),len(x_list)])\n",
    "    return(H1,grads1)"
   ]
  },
  {
   "cell_type": "code",
   "execution_count": 10,
   "metadata": {},
   "outputs": [],
   "source": [
    "# Function Jaco_Comp evaluates the Jacobian that is necessary to approximate Hessian.\n",
    "def Jaco_comp(y,x_list):\n",
    "    Jaco=[];Jaco1=[];\n",
    "    Jaco.append([tf.gradients(y_, x_list) for y_ in y])\n",
    "    for i in range(0,len(Jaco[0])):\n",
    "        for j in range(0,len(Jaco[0][i])):\n",
    "            if Jaco[0][i][j] == None:\n",
    "                Jaco1.append(cons(0))   \n",
    "            else: \n",
    "                Jaco1.append(Jaco[0][i][j])\n",
    "    Jaco1 = tf.reshape(Jaco1,[len(y),len(x_list)])\n",
    "    return(Jaco1)"
   ]
  },
  {
   "cell_type": "code",
   "execution_count": 9,
   "metadata": {},
   "outputs": [],
   "source": [
    "# This function is called in 'Hess_Comp' function to initisalise those elements in the Hessian matrix where the \n",
    "# double differential is zero.\n",
    "def cons(x):\n",
    "    return tf.constant(x, dtype=tf.float32)"
   ]
  },
  {
   "cell_type": "code",
   "execution_count": 11,
   "metadata": {},
   "outputs": [],
   "source": [
    "import tensorflow as tf\n",
    "import numpy as np\n",
    "import random\n",
    "\n",
    "#Logistic Regression\n",
    "#data_x=np.random.rand(10)\n",
    "data_x = [-1,0,4,7,10]\n",
    "data_y= [0,0,1,1,1]\n",
    "\n",
    "#random.shuffle(create_y)\n",
    "batch_size = len(data_x)\n",
    "\n",
    "# Input and Output. No batch_size for simplicity.\n",
    "x = tf.placeholder(shape=[batch_size], dtype=tf.float32, name=\"x\")\n",
    "y = tf.placeholder(shape=[batch_size], dtype=tf.float32, name=\"y\")\n",
    "\n",
    "# Weight and bias.\n",
    "W = tf.Variable(tf.ones(shape=[1]), dtype=tf.float32, name=\"W\")\n",
    "b = tf.Variable(tf.zeros(shape=[1]), dtype=tf.float32, name=\"b\")\n",
    "c = tf.constant\n",
    "\n",
    "# Making a prediction and comparing it to the true output\n",
    "pred = tf.sigmoid(x * W + b)\n",
    "prediction = tf.unstack(pred)\n",
    "predictions = [tf.cast(tf.greater(x,cons(0)),tf.int32) for x in prediction]\n",
    "\n",
    "loss = 0.5 * (y - pred)**2/batch_size\n",
    "loss = tf.unstack(loss)\n",
    "wrt_variables = [W, b]\n",
    "\n",
    "# Hess_Comp evaluates the gradient of the loss with respect to the newest variables.\n",
    "[Hess23,grad]=Hess_Comp(loss,wrt_variables)\n",
    "\n",
    "# Jaco_Comp evaluates the Jacobian of the loss with respect to the newest variables.\n",
    "Jacob = Jaco_comp(loss,wrt_variables)\n",
    "\n",
    "# Approximate Hessian as J'J\n",
    "Hess=tf.matmul(tf.transpose(Jacob),tf.stack(Jacob)); \n",
    "\n",
    "# Inverting the matrix\n",
    "Inv_Hess=tf.matrix_inverse(Hess)\n",
    "\n",
    "# Get the step size ((J'J)^-1)g\n",
    "update_directions = -tf.matmul(Inv_Hess,grad)\n",
    "update_directions=(tf.unstack(update_directions))\n",
    "\n",
    "#Add the step size to the varibles to update them\n",
    "op_apply_updates = [\n",
    "    v.assign_add(up)\n",
    "    for v, up in zip(wrt_variables, update_directions)\n",
    "]\n",
    "\n"
   ]
  },
  {
   "cell_type": "code",
   "execution_count": 12,
   "metadata": {},
   "outputs": [
    {
     "name": "stdout",
     "output_type": "stream",
     "text": [
      "Initial loss: [0.0072329491, 0.025, 3.2350476e-05, 8.2991626e-08, 2.0628618e-10]\n",
      "Loss after iteration 1: 9.896923445165515e-37\n",
      "Prediction: [  0.00000000e+00   7.03453004e-18   1.00000000e+00   1.00000000e+00\n",
      "   1.00000000e+00]\n",
      "Expected: [0, 0, 1, 1, 1]\n"
     ]
    }
   ],
   "source": [
    "# Initialize variables\n",
    "sess = tf.Session()\n",
    "sess.run(tf.global_variables_initializer())\n",
    "\n",
    "\n",
    "# First loss\n",
    "comp_loss = sess.run(\n",
    "    loss,\n",
    "    feed_dict={\n",
    "        x: data_x,\n",
    "        y: data_y\n",
    "    }\n",
    ")\n",
    "print(\"Initial loss:\", comp_loss)\n",
    "loss_iter=np.zeros(21);\n",
    "loss_iter[0]=sum(comp_loss)/len(data_x);\n",
    "\n",
    "# Weight and bias update, \"training\" phase:\n",
    "for iteration in range(20):\n",
    "    \n",
    "    _,g1,h = sess.run(\n",
    "        [op_apply_updates,wrt_variables,Hess],\n",
    "        feed_dict={\n",
    "            x: data_x,\n",
    "            y: data_y\n",
    "        }\n",
    "    )\n",
    "    comp_loss = sess.run(\n",
    "        loss,\n",
    "        feed_dict={\n",
    "            x: data_x,\n",
    "            y: data_y\n",
    "        }\n",
    "    )\n",
    "    print(\"Loss after iteration {}: {}\".format(iteration+1, sum(comp_loss)/len(data_x)))\n",
    "    if(sum(comp_loss)/len(data_x)<0.05):\n",
    "        loss_iter[iteration+1:]=sum(comp_loss)/len(data_x);\n",
    "        break\n",
    "    loss_iter[iteration+1]=sum(comp_loss)/len(data_x);\n",
    "Predicted = sess.run(pred, feed_dict={x: data_x})\n",
    "    \n",
    "# Results:\n",
    "print(\"Prediction:\", Predicted)\n",
    "print(\"Expected:\", data_y)\n",
    "\n"
   ]
  },
  {
   "cell_type": "code",
   "execution_count": 15,
   "metadata": {},
   "outputs": [
    {
     "data": {
      "image/png": "[encoded data removed]",
      "text/plain": [
       "<matplotlib.figure.Figure at 0x2ae3071d128>"
      ]
     },
     "metadata": {},
     "output_type": "display_data"
    }
   ],
   "source": [
    "import matplotlib.pyplot as plt\n",
    "Actual, = plt.plot(data_x,data_y,'r*')\n",
    "Predictions, = plt.plot(data_x,Predicted,'b')\n",
    "plt.legend([Actual, Predictions], ['Actual', 'Predictions'])\n",
    "plt.ylabel('y')\n",
    "plt.xlabel('x')\n",
    "plt.show()\n"
   ]
  },
  {
   "cell_type": "code",
   "execution_count": 17,
   "metadata": {},
   "outputs": [
    {
     "data": {
      "image/png": "[encoded data removed]",
      "text/plain": [
       "<matplotlib.figure.Figure at 0x2ae307fbe10>"
      ]
     },
     "metadata": {},
     "output_type": "display_data"
    }
   ],
   "source": [
    "Loss, = plt.plot(loss_iter,'r-')\n",
    "plt.legend([Actual, Predictions], ['Gauss Newtons Method'])\n",
    "plt.ylabel('Loss')\n",
    "plt.title('Logistic Regression - Gauss Newtons Method')\n",
    "plt.xlabel('Iteration')\n",
    "plt.show()"
   ]
  },
  {
   "cell_type": "code",
   "execution_count": null,
   "metadata": {},
   "outputs": [],
   "source": []
  }
 ],
 "metadata": {
  "kernelspec": {
   "display_name": "Python 3",
   "language": "python",
   "name": "python3"
  },
  "language_info": {
   "codemirror_mode": {
    "name": "ipython",
    "version": 3
   },
   "file_extension": ".py",
   "mimetype": "text/x-python",
   "name": "python",
   "nbconvert_exporter": "python",
   "pygments_lexer": "ipython3",
   "version": "3.6.3"
  }
 },
 "nbformat": 4,
 "nbformat_minor": 2
}
