{
 "cells": [
  {
   "cell_type": "code",
   "execution_count": 1,
   "metadata": {},
   "outputs": [],
   "source": [
    "# Required for estimating the Hessian which is necessary estimate the step-size\n",
    "def Hess_Comp(y,x_list):\n",
    "    grads=[];H=[];grads1=[];H1=[];\n",
    "    grads.append(tf.gradients(y, x_list))\n",
    "    for i in range(0,len(grads[0])):\n",
    "        if grads[0][i] == None:\n",
    "            grads1.append(cons(10))   \n",
    "        else: \n",
    "            grads1.append(grads[0][i])\n",
    "    H.append([tf.gradients(y_, x_list) for y_ in grads1])\n",
    "    for i in range(0,len(H[0])):\n",
    "        for j in range(0,len(H[0][i])):\n",
    "            if H[0][i][j] == None:\n",
    "                H1.append(cons(10))   \n",
    "            else: \n",
    "                H1.append(H[0][i][j])\n",
    "    H1 = tf.reshape(H1,[len(x_list),len(x_list)])\n",
    "    grads1 = tf.reshape(grads1,[len(x_list),1])\n",
    "\n",
    "    return(H1,grads1)"
   ]
  },
  {
   "cell_type": "code",
   "execution_count": 2,
   "metadata": {},
   "outputs": [],
   "source": [
    "# This function is called in 'Hess_Comp' function to initisalise those elements in the Hessian matrix where the \n",
    "# double differential is zero.\n",
    "def cons(x):\n",
    "    return tf.constant(x, dtype=tf.float32)"
   ]
  },
  {
   "cell_type": "code",
   "execution_count": 6,
   "metadata": {},
   "outputs": [],
   "source": [
    "import tensorflow as tf\n",
    "import numpy as np\n",
    "\n",
    "data_x = [0.,1.,2.,3.]\n",
    "data_y = [2.,3.,4.,5.]\n",
    "batch_size = len(data_x)\n",
    "\n",
    "# Input and Output. No batch_size for simplicity.\n",
    "x = tf.placeholder(shape=[batch_size], dtype=tf.float32, name=\"x\")\n",
    "y = tf.placeholder(shape=[batch_size], dtype=tf.float32, name=\"y\")\n",
    "\n",
    "# Weight and bias.\n",
    "# The wieghts have been generalised \n",
    "\n",
    "wrt_variables = tf.Variable(tf.ones(shape=[2,1]), dtype=tf.float32, name=\"wrt\")\n",
    "z = tf.Variable(tf.ones(shape=[2,1]), dtype=tf.float32, name=\"z\")\n",
    "c = tf.constant\n",
    "\n",
    "# Making a prediction and comparing it to the true output\n",
    "wrt_variables_list = tf.unstack(wrt_variables);\n",
    "pred = x * wrt_variables_list[0] + wrt_variables_list[1]\n",
    "loss = (tf.reduce_mean(0.5 * (y - pred)**2))\n",
    "[Hess,grad]=Hess_Comp(loss,wrt_variables_list);\n",
    "\n",
    "# USing Conjugate Gradient method to estimate the step-size without inverting the Hessian. \n",
    "cg_wrt_variables = z;\n",
    "\n",
    "for iteration in range(5):\n",
    "    cg_wrt_variables_list = tf.unstack(cg_wrt_variables)\n",
    "    cg_loss = (grad - tf.matmul(Hess,cg_wrt_variables_list))**2\n",
    "    [H,G] = Hess_Comp(cg_loss,cg_wrt_variables_list);\n",
    "    d=-G;\n",
    "    for index in range (0,len(cg_wrt_variables_list)-1):\n",
    "        Alpha_N= tf.matmul(-tf.transpose(G),d);\n",
    "        Alpha_D= tf.matmul(tf.matmul(tf.transpose(d),H),d);\n",
    "        Alpha = tf.divide(Alpha_N,Alpha_D);\n",
    "        cg_update_directions = Alpha*d    \n",
    "        cg_wrt_variables = tf.assign_add(cg_wrt_variables,cg_update_directions)\n",
    "        cg_wrt_variables_list = tf.unstack(cg_wrt_variables);\n",
    "        cg_loss = (grad - tf.matmul(Hess,cg_wrt_variables_list))**2\n",
    "        [H1,G]=Hess_Comp(cg_loss,cg_wrt_variables_list)\n",
    "        Beta_N= tf.matmul(tf.matmul(tf.transpose(G),H),d);\n",
    "        Beta_D= tf.matmul(tf.matmul(tf.transpose(d),H),d);\n",
    "        Beta = tf.divide(Beta_N,Beta_D);\n",
    "        Beta_update_directions = tf.unstack(Beta*d)\n",
    "        d=tf.subtract(Beta_update_directions,G)\n",
    "        [H,G]=Hess_Comp(cg_loss,cg_wrt_variables_list)\n",
    "        \n",
    "update_directions = -cg_wrt_variables;\n",
    "update_directions=(tf.unstack(update_directions))\n",
    "wrt_variables = tf.assign_add(wrt_variables,update_directions)\n"
   ]
  },
  {
   "cell_type": "code",
   "execution_count": 9,
   "metadata": {},
   "outputs": [
    {
     "name": "stdout",
     "output_type": "stream",
     "text": [
      "Hi\n",
      "Initial loss: 0.5\n",
      "Loss after iteration 0: 0.5\n",
      "Loss after iteration 1: 9.698908343125368e-12\n",
      "Loss after iteration 2: 2.872238979989561e-08\n",
      "Loss after iteration 3: 1.7763568394002505e-15\n",
      "Loss after iteration 4: 1.7763568394002505e-15\n",
      "Loss after iteration 5: 0.0\n",
      "Loss after iteration 6: 0.0\n",
      "Loss after iteration 7: 0.0\n",
      "Loss after iteration 8: 0.0\n",
      "Loss after iteration 9: 0.0\n",
      "Loss after iteration 10: 0.0\n",
      "Loss after iteration 11: 0.0\n",
      "Loss after iteration 12: 0.0\n",
      "Loss after iteration 13: 0.0\n",
      "Loss after iteration 14: 0.0\n",
      "Loss after iteration 15: 0.0\n",
      "Loss after iteration 16: 0.0\n",
      "Loss after iteration 17: 0.0\n",
      "Loss after iteration 18: 0.0\n",
      "Loss after iteration 19: 0.0\n",
      "Prediction: [ 2.          2.99999994  3.99999988  4.99999982]\n",
      "Expected: [2.0, 3.0, 4.0, 5.0]\n"
     ]
    }
   ],
   "source": [
    "sess = tf.Session()\n",
    "print(\"Hi\")\n",
    "\n",
    "sess.run(tf.global_variables_initializer())\n",
    "\n",
    "comp_loss = sess.run(\n",
    "    loss,\n",
    "    feed_dict={\n",
    "        x: data_x,\n",
    "        y: data_y\n",
    "    }\n",
    ")\n",
    "print(\"Initial loss:\", initial_loss)    \n",
    "loss_iter=np.zeros(21);\n",
    "loss_iter[0]=comp_loss;\n",
    "\n",
    "for iteration in range(20):\n",
    "    comp_loss, g1,g,cg_wrt = sess.run(\n",
    "        [loss,wrt_variables,grad,cg_loss],\n",
    "        feed_dict={\n",
    "            x: data_x,\n",
    "            y: data_y\n",
    "        }\n",
    "    )\n",
    "    \n",
    "    print(\"Loss after iteration {}: {}\".format(iteration, comp_loss))\n",
    "    loss_iter[iteration+1]=comp_loss;\n",
    "\n",
    "Predicted = data_x *g1[0] +g1[1];\n",
    "    \n",
    "# Results:\n",
    "print(\"Prediction:\", Predicted)\n",
    "\n",
    "print(\"Expected:\", data_y)\n",
    "sess.close();"
   ]
  },
  {
   "cell_type": "code",
   "execution_count": 12,
   "metadata": {},
   "outputs": [
    {
     "data": {
      "image/png": "[encoded data removed]",
      "text/plain": [
       "<matplotlib.figure.Figure at 0x13154f4a390>"
      ]
     },
     "metadata": {},
     "output_type": "display_data"
    }
   ],
   "source": [
    "import matplotlib.pyplot as plt\n",
    "Actual, = plt.plot(data_x,data_y,'r*')\n",
    "Predictions, = plt.plot(data_x,Predicted,'b')\n",
    "plt.legend([Actual, Predictions], ['Actual', 'Predictions'])\n",
    "plt.ylabel('y')\n",
    "plt.xlabel('x')\n",
    "plt.show()"
   ]
  },
  {
   "cell_type": "code",
   "execution_count": 14,
   "metadata": {},
   "outputs": [
    {
     "data": {
      "image/png": "[encoded data removed]",
      "text/plain": [
       "<matplotlib.figure.Figure at 0x1315524e6d8>"
      ]
     },
     "metadata": {},
     "output_type": "display_data"
    }
   ],
   "source": [
    "Loss, = plt.plot(loss_iter,'r-')\n",
    "plt.legend([Actual, Predictions], ['Newtons Method CG'])\n",
    "plt.ylabel('Loss')\n",
    "plt.title('Linear Regression - Newtons Method CG')\n",
    "plt.xlabel('Iteration')\n",
    "plt.show()"
   ]
  },
  {
   "cell_type": "code",
   "execution_count": null,
   "metadata": {},
   "outputs": [],
   "source": []
  }
 ],
 "metadata": {
  "kernelspec": {
   "display_name": "Python 3",
   "language": "python",
   "name": "python3"
  },
  "language_info": {
   "codemirror_mode": {
    "name": "ipython",
    "version": 3
   },
   "file_extension": ".py",
   "mimetype": "text/x-python",
   "name": "python",
   "nbconvert_exporter": "python",
   "pygments_lexer": "ipython3",
   "version": "3.6.3"
  }
 },
 "nbformat": 4,
 "nbformat_minor": 2
}
